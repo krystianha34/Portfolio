{
  "nbformat": 4,
  "nbformat_minor": 0,
  "metadata": {
    "colab": {
      "provenance": []
    },
    "kernelspec": {
      "name": "python3",
      "display_name": "Python 3"
    },
    "language_info": {
      "name": "python"
    }
  },
  "cells": [
    {
      "cell_type": "markdown",
      "source": [
        "WordNet is a way of organizing nouns, verbs, adjectives, and adverbs in a hierarchical organization. It provides short definitions of words as well as synonymous words and examples. This all comes together to provide a benefit in classifying and understanding human languages."
      ],
      "metadata": {
        "id": "q8J-akqMM4NB"
      }
    },
    {
      "cell_type": "code",
      "execution_count": null,
      "metadata": {
        "id": "WJ42m6tKMw4S"
      },
      "outputs": [],
      "source": [
        "import nltk\n",
        "nltk.download(\"all\")\n",
        "from nltk.corpus import wordnet as wn"
      ]
    },
    {
      "cell_type": "code",
      "source": [
        "# Getting all synsets of \"wolf\"\n",
        "\n",
        "wn.synsets(\"wolf\")"
      ],
      "metadata": {
        "colab": {
          "base_uri": "https://localhost:8080/",
          "height": 0
        },
        "id": "6OrXE8FJVTdQ",
        "outputId": "3f992031-4858-43b2-dd84-d1b1d44bb103"
      },
      "execution_count": 3,
      "outputs": [
        {
          "output_type": "execute_result",
          "data": {
            "text/plain": [
              "[Synset('wolf.n.01'),\n",
              " Synset('wolf.n.02'),\n",
              " Synset('wolf.n.03'),\n",
              " Synset('wolf.n.04'),\n",
              " Synset('beast.n.02'),\n",
              " Synset('wolf.v.01')]"
            ]
          },
          "metadata": {},
          "execution_count": 3
        }
      ]
    },
    {
      "cell_type": "code",
      "source": [
        "# Obtaining the first definition for \"wolf\" \n",
        "\n",
        "wn.synset(\"wolf.n.01\").definition()"
      ],
      "metadata": {
        "colab": {
          "base_uri": "https://localhost:8080/",
          "height": 36
        },
        "id": "Q057yeIMVfUU",
        "outputId": "17bbd789-b814-4840-bf92-742925ede19c"
      },
      "execution_count": 4,
      "outputs": [
        {
          "output_type": "execute_result",
          "data": {
            "text/plain": [
              "'any of various predatory carnivorous canine mammals of North America and Eurasia that usually hunt in packs'"
            ],
            "application/vnd.google.colaboratory.intrinsic+json": {
              "type": "string"
            }
          },
          "metadata": {},
          "execution_count": 4
        }
      ]
    },
    {
      "cell_type": "code",
      "source": [
        "# An example of \"wolf\" in a sentence. \n",
        "\n",
        "wn.synset(\"wolf.v.01\").examples()"
      ],
      "metadata": {
        "colab": {
          "base_uri": "https://localhost:8080/",
          "height": 0
        },
        "id": "MNd8aB9CXir6",
        "outputId": "0367b1fc-8ef2-4e33-cd15-32bacbd2f8f2"
      },
      "execution_count": 5,
      "outputs": [
        {
          "output_type": "execute_result",
          "data": {
            "text/plain": [
              "['The teenager wolfed down the pizza']"
            ]
          },
          "metadata": {},
          "execution_count": 5
        }
      ]
    },
    {
      "cell_type": "code",
      "source": [
        "# Extracting lemmas\n",
        "\n",
        "wn.synset(\"wolf.v.01\").lemmas()"
      ],
      "metadata": {
        "colab": {
          "base_uri": "https://localhost:8080/",
          "height": 0
        },
        "id": "9vTlWmUMZqt3",
        "outputId": "787aaf33-161f-4b43-bbcb-c80b839ef43e"
      },
      "execution_count": 6,
      "outputs": [
        {
          "output_type": "execute_result",
          "data": {
            "text/plain": [
              "[Lemma('wolf.v.01.wolf'), Lemma('wolf.v.01.wolf_down')]"
            ]
          },
          "metadata": {},
          "execution_count": 6
        }
      ]
    },
    {
      "cell_type": "code",
      "source": [
        "# Moving up the noun hierarchy for the word \"wolf\"\n",
        "\n",
        "wolf = wn.synset(\"wolf.n.01\")\n",
        "hyp = wolf.hypernyms()[0]\n",
        "top = wn.synset(\"entity.n.01\")\n",
        "\n",
        "while hyp:\n",
        "  print(hyp)\n",
        "  if hyp == top:\n",
        "    break\n",
        "  if hyp.hypernyms():\n",
        "    hyp = hyp.hypernyms()[0]"
      ],
      "metadata": {
        "colab": {
          "base_uri": "https://localhost:8080/",
          "height": 0
        },
        "id": "MQXLXUwwaHMq",
        "outputId": "e0f1a15d-b471-43ca-e3f2-8f5da7dcb901"
      },
      "execution_count": 7,
      "outputs": [
        {
          "output_type": "stream",
          "name": "stdout",
          "text": [
            "Synset('canine.n.02')\n",
            "Synset('carnivore.n.01')\n",
            "Synset('placental.n.01')\n",
            "Synset('mammal.n.01')\n",
            "Synset('vertebrate.n.01')\n",
            "Synset('chordate.n.01')\n",
            "Synset('animal.n.01')\n",
            "Synset('organism.n.01')\n",
            "Synset('living_thing.n.01')\n",
            "Synset('whole.n.02')\n",
            "Synset('object.n.01')\n",
            "Synset('physical_entity.n.01')\n",
            "Synset('entity.n.01')\n"
          ]
        }
      ]
    },
    {
      "cell_type": "markdown",
      "source": [
        "WordNet appears to be organizing its nouns based on a hierarchy. At least for \"wolf\" it appears to be starting at a very descriptive definition and moving up to a more generalized one. "
      ],
      "metadata": {
        "id": "OeiJ8rMccU0G"
      }
    },
    {
      "cell_type": "code",
      "source": [
        "# Printing the Hypernyms, Hyponyms, Meronyms, Holonyms, and Antonyms for \"wolf\"\n",
        "\n",
        "print(\"Hypernyms: \", wolf.hypernyms())\n",
        "print(\"Hyponyms: \", wolf.hyponyms())\n",
        "print(\"Meronyms: \", wolf.member_meronyms())\n",
        "print(\"Holonyms: \", wolf.member_holonyms())\n",
        "print(\"Antonyms: \", wolf.lemmas()[0].antonyms())"
      ],
      "metadata": {
        "colab": {
          "base_uri": "https://localhost:8080/",
          "height": 0
        },
        "id": "ckx54knZdM1O",
        "outputId": "84aa2c2b-cc73-4895-a711-1f21a3b11ce5"
      },
      "execution_count": 8,
      "outputs": [
        {
          "output_type": "stream",
          "name": "stdout",
          "text": [
            "Hypernyms:  [Synset('canine.n.02')]\n",
            "Hyponyms:  [Synset('coyote.n.01'), Synset('red_wolf.n.01'), Synset('timber_wolf.n.01'), Synset('white_wolf.n.01'), Synset('wolf_pup.n.01')]\n",
            "Meronyms:  []\n",
            "Holonyms:  [Synset('canis.n.01')]\n",
            "Antonyms:  []\n"
          ]
        }
      ]
    },
    {
      "cell_type": "markdown",
      "source": [
        "Switching over to the verb form of \"wolf\" or \"wolfs\" which has a separate meaning."
      ],
      "metadata": {
        "id": "Hgo8hZrktk77"
      }
    },
    {
      "cell_type": "code",
      "source": [
        "# Finding the synsets for \"wolf\"\n",
        "\n",
        "wn.synsets(\"wolf\")"
      ],
      "metadata": {
        "colab": {
          "base_uri": "https://localhost:8080/",
          "height": 0
        },
        "id": "-F0qyS9ZtoXC",
        "outputId": "a4041d08-7583-435d-838a-5cf75eef350c"
      },
      "execution_count": 9,
      "outputs": [
        {
          "output_type": "execute_result",
          "data": {
            "text/plain": [
              "[Synset('wolf.n.01'),\n",
              " Synset('wolf.n.02'),\n",
              " Synset('wolf.n.03'),\n",
              " Synset('wolf.n.04'),\n",
              " Synset('beast.n.02'),\n",
              " Synset('wolf.v.01')]"
            ]
          },
          "metadata": {},
          "execution_count": 9
        }
      ]
    },
    {
      "cell_type": "code",
      "source": [
        "# Obtaining the verb definition for \"wolf\" \n",
        "\n",
        "wn.synset(\"wolf.v.01\").definition()"
      ],
      "metadata": {
        "colab": {
          "base_uri": "https://localhost:8080/",
          "height": 36
        },
        "id": "WjNmC_A7t4cN",
        "outputId": "c3b91417-e7ea-4a8f-dd01-d3e84082aec1"
      },
      "execution_count": 10,
      "outputs": [
        {
          "output_type": "execute_result",
          "data": {
            "text/plain": [
              "'eat hastily'"
            ],
            "application/vnd.google.colaboratory.intrinsic+json": {
              "type": "string"
            }
          },
          "metadata": {},
          "execution_count": 10
        }
      ]
    },
    {
      "cell_type": "code",
      "source": [
        "# An example of \"wolf\" in a sentence. \n",
        "\n",
        "wn.synset(\"wolf.v.01\").examples()"
      ],
      "metadata": {
        "colab": {
          "base_uri": "https://localhost:8080/",
          "height": 0
        },
        "id": "j1RUi_qQwF1Z",
        "outputId": "d7e169fe-8080-42ef-b2b6-0011fa24fc62"
      },
      "execution_count": 11,
      "outputs": [
        {
          "output_type": "execute_result",
          "data": {
            "text/plain": [
              "['The teenager wolfed down the pizza']"
            ]
          },
          "metadata": {},
          "execution_count": 11
        }
      ]
    },
    {
      "cell_type": "code",
      "source": [
        "# Extracting lemmas\n",
        "\n",
        "wn.synset(\"wolf.v.01\").lemmas()"
      ],
      "metadata": {
        "colab": {
          "base_uri": "https://localhost:8080/",
          "height": 0
        },
        "id": "D3uHrimJwfZg",
        "outputId": "b79b24ee-fb08-4a9f-b2e5-f3a81ce05a24"
      },
      "execution_count": 12,
      "outputs": [
        {
          "output_type": "execute_result",
          "data": {
            "text/plain": [
              "[Lemma('wolf.v.01.wolf'), Lemma('wolf.v.01.wolf_down')]"
            ]
          },
          "metadata": {},
          "execution_count": 12
        }
      ]
    },
    {
      "cell_type": "code",
      "source": [
        "# Attempting to move up the hierarchy for the verb form of \"wolf\"\n",
        "\n",
        "wolfv = wn.synset(\"wolf.v.01\")\n",
        "hyp = wolfv.hypernyms()[0]\n",
        "count = 0\n",
        "\n",
        "while hyp:\n",
        "  print(hyp)\n",
        "  if count > 5:\n",
        "    break\n",
        "  if hyp.hypernyms():\n",
        "    hyp = hyp.hypernyms()[0]\n",
        "  count += 1"
      ],
      "metadata": {
        "colab": {
          "base_uri": "https://localhost:8080/",
          "height": 0
        },
        "id": "MzBzD1Fewo7b",
        "outputId": "7830b77c-9eed-42b1-d498-8a2e746349bf"
      },
      "execution_count": 14,
      "outputs": [
        {
          "output_type": "stream",
          "name": "stdout",
          "text": [
            "Synset('eat.v.01')\n",
            "Synset('consume.v.02')\n",
            "Synset('consume.v.02')\n",
            "Synset('consume.v.02')\n",
            "Synset('consume.v.02')\n",
            "Synset('consume.v.02')\n",
            "Synset('consume.v.02')\n"
          ]
        }
      ]
    },
    {
      "cell_type": "markdown",
      "source": [
        "Verbs are structured in a similar way to nouns with definitions, examples, and lemmas. But the main difference is the lack of a top level for verbs, it does not exist in WordNet."
      ],
      "metadata": {
        "id": "1UUKrY4ByORS"
      }
    },
    {
      "cell_type": "code",
      "source": [
        "# Using morphy now to find different forms of the word \"silliest\"\n",
        "\n",
        "wn.morphy(\"sillier\", wn.ADJ)"
      ],
      "metadata": {
        "colab": {
          "base_uri": "https://localhost:8080/",
          "height": 36
        },
        "id": "zH9krv4Kz8zd",
        "outputId": "13879749-0cde-4a80-8280-f77d025066cf"
      },
      "execution_count": 15,
      "outputs": [
        {
          "output_type": "execute_result",
          "data": {
            "text/plain": [
              "'silly'"
            ],
            "application/vnd.google.colaboratory.intrinsic+json": {
              "type": "string"
            }
          },
          "metadata": {},
          "execution_count": 15
        }
      ]
    },
    {
      "cell_type": "code",
      "source": [
        "wn.morphy(\"silliest\")"
      ],
      "metadata": {
        "colab": {
          "base_uri": "https://localhost:8080/",
          "height": 36
        },
        "id": "qBHwF0d10eVK",
        "outputId": "0c81b5e1-3741-4cf8-e8be-75e39901345c"
      },
      "execution_count": 16,
      "outputs": [
        {
          "output_type": "execute_result",
          "data": {
            "text/plain": [
              "'silly'"
            ],
            "application/vnd.google.colaboratory.intrinsic+json": {
              "type": "string"
            }
          },
          "metadata": {},
          "execution_count": 16
        }
      ]
    },
    {
      "cell_type": "code",
      "source": [
        "# I will be selecting the words wolf and fox.\n",
        "\n",
        "wolf = wn.synset(\"wolf.n.01\")\n",
        "fox = wn.synset(\"fox.n.01\")\n",
        "\n",
        "print(wolf.definition())\n",
        "print(fox.definition())\n",
        "\n",
        "wolf.path_similarity(fox)"
      ],
      "metadata": {
        "colab": {
          "base_uri": "https://localhost:8080/",
          "height": 0
        },
        "id": "QpaTJv8T1kIW",
        "outputId": "acce5e84-24a3-4b3e-a310-062dc95465bd"
      },
      "execution_count": 17,
      "outputs": [
        {
          "output_type": "stream",
          "name": "stdout",
          "text": [
            "any of various predatory carnivorous canine mammals of North America and Eurasia that usually hunt in packs\n",
            "alert carnivorous mammal with pointed muzzle and ears and a bushy tail; most are predators that do not hunt in packs\n"
          ]
        },
        {
          "output_type": "execute_result",
          "data": {
            "text/plain": [
              "0.3333333333333333"
            ]
          },
          "metadata": {},
          "execution_count": 17
        }
      ]
    },
    {
      "cell_type": "code",
      "source": [
        "# Wu-Palmer similarity metric\n",
        "\n",
        "wn.wup_similarity(wolf, fox)"
      ],
      "metadata": {
        "colab": {
          "base_uri": "https://localhost:8080/",
          "height": 0
        },
        "id": "Q8EtUgta2Qpy",
        "outputId": "aec06048-7497-4725-a831-35e888ff7973"
      },
      "execution_count": 18,
      "outputs": [
        {
          "output_type": "execute_result",
          "data": {
            "text/plain": [
              "0.9285714285714286"
            ]
          },
          "metadata": {},
          "execution_count": 18
        }
      ]
    },
    {
      "cell_type": "code",
      "source": [
        "# Lesk algorithm\n",
        "\n",
        "from nltk.wsd import lesk\n",
        "print(wn.synset(\"fox.n.03\").definition())\n",
        "\n",
        "sent = [\"I\", \"saw\", \"a\", \"fox\", \"and\", \"a\", \"wolf\", \"today\", \"in\", \"the\", \"wilderness\", \".\"]\n",
        "print(lesk(sent, \"fox\", \"n\"))\n",
        "print(lesk(sent, \"fox\"))"
      ],
      "metadata": {
        "colab": {
          "base_uri": "https://localhost:8080/",
          "height": 0
        },
        "id": "ztI-bW2M4Cp_",
        "outputId": "917d0c70-ab26-4d0a-8db4-57ed4bc9d423"
      },
      "execution_count": 19,
      "outputs": [
        {
          "output_type": "stream",
          "name": "stdout",
          "text": [
            "the grey or reddish-brown fur of a fox\n",
            "Synset('fox.n.03')\n",
            "Synset('fox.n.03')\n"
          ]
        }
      ]
    },
    {
      "cell_type": "markdown",
      "source": [
        "The Wu-Palmer similarity metric appears to do a decent job when it comes to comparing words at least with the two I picked. The Lesk algorithm seemed to have a bit of trouble knowing what noun to pick for the words used."
      ],
      "metadata": {
        "id": "7dCaGJ4k6GmP"
      }
    },
    {
      "cell_type": "markdown",
      "source": [
        "SentiWordNet is primarily built upon WordNet and focuses on opinion mining. It uses 3 sentiment scores of positivity, negativity, and objectivity to determine a word's overall sentiment score. "
      ],
      "metadata": {
        "id": "f_WBwFX36W4Y"
      }
    },
    {
      "cell_type": "code",
      "source": [
        "# Finding the polarity score for agony and its synsets\n",
        "\n",
        "from nltk.corpus import sentiwordnet as swn\n",
        "\n",
        "agony = swn.senti_synset(\"agony.n.01\")\n",
        "print(agony)\n",
        "print()\n",
        "\n",
        "senti_list = list(swn.senti_synsets(\"agony\"))\n",
        "print\n",
        "for item in senti_list:\n",
        "  print(item)"
      ],
      "metadata": {
        "colab": {
          "base_uri": "https://localhost:8080/",
          "height": 0
        },
        "id": "Zq3TUA9QVzpw",
        "outputId": "27ce4900-f4d4-4b7a-8edc-db71aa69962a"
      },
      "execution_count": 20,
      "outputs": [
        {
          "output_type": "stream",
          "name": "stdout",
          "text": [
            "<agony.n.01: PosScore=0.0 NegScore=0.625>\n",
            "\n",
            "<agony.n.01: PosScore=0.0 NegScore=0.625>\n",
            "<agony.n.02: PosScore=0.0 NegScore=0.375>\n"
          ]
        }
      ]
    },
    {
      "cell_type": "code",
      "source": [
        "# Attempting to find the polarity score for each word in the sentence.\n",
        "\n",
        "sent = \"I was in agony the entire time\"\n",
        "tokens = sent.split()\n",
        "\n",
        "for token in tokens:\n",
        "  print(token)\n",
        "  syn_list = list(swn.senti_synsets(token))\n",
        "\n",
        "  if syn_list:\n",
        "    syn = syn_list[0]\n",
        "    print(syn)"
      ],
      "metadata": {
        "colab": {
          "base_uri": "https://localhost:8080/",
          "height": 0
        },
        "id": "MAiSAYN7YE7p",
        "outputId": "14d6ea99-66e9-419e-b434-27f8e9cbf7da"
      },
      "execution_count": 21,
      "outputs": [
        {
          "output_type": "stream",
          "name": "stdout",
          "text": [
            "I\n",
            "<iodine.n.01: PosScore=0.0 NegScore=0.0>\n",
            "was\n",
            "<washington.n.02: PosScore=0.0 NegScore=0.0>\n",
            "in\n",
            "<inch.n.01: PosScore=0.0 NegScore=0.0>\n",
            "agony\n",
            "<agony.n.01: PosScore=0.0 NegScore=0.625>\n",
            "the\n",
            "entire\n",
            "<stallion.n.01: PosScore=0.0 NegScore=0.0>\n",
            "time\n",
            "<time.n.01: PosScore=0.0 NegScore=0.0>\n"
          ]
        }
      ]
    },
    {
      "cell_type": "markdown",
      "source": [
        "SentiWordNet did not appear to really understand all the words within the given sentence, but it was able to pick up some and provide the polarity. When used properly, SentiWordNet is useful for detecting emotion and can help a computer better understand the meaning in conversations."
      ],
      "metadata": {
        "id": "WwgCCIuHpuJ1"
      }
    },
    {
      "cell_type": "markdown",
      "source": [
        "Collocations are words that come together to create a bigger meaning compared to their individual ones. It's useful for computers to know so they can understand the meaning of words in their given context. "
      ],
      "metadata": {
        "id": "mcrfwKKGrmP2"
      }
    },
    {
      "cell_type": "code",
      "source": [
        "import nltk\n",
        "from nltk.book import text4\n",
        "\n",
        "text4.collocations()"
      ],
      "metadata": {
        "id": "f5zqh2KotT_D"
      },
      "execution_count": null,
      "outputs": []
    },
    {
      "cell_type": "code",
      "source": [
        "# Finding the mutual information for the collocation \"American people\"\n",
        "\n",
        "import math\n",
        "\n",
        "text = ' '.join(text4.tokens)\n",
        "text[:50]\n",
        "\n",
        "vocab = len(set(text4))\n",
        "ap = text.count(\"American people\")\n",
        "print(\"p(American people) = \", ap)\n",
        "a = text.count(\"American\")\n",
        "print(\"p(American) = \", a)\n",
        "p = text.count(\"people\")\n",
        "print(\"p(people) = \", p)\n",
        "pmi = math.log2(ap / (a * p))\n",
        "print(\"pmi = \", pmi)\n"
      ],
      "metadata": {
        "colab": {
          "base_uri": "https://localhost:8080/",
          "height": 0
        },
        "id": "b4iwrBWZvqCZ",
        "outputId": "7eae4d61-368c-47b7-aeda-a4fd4b81f04a"
      },
      "execution_count": 23,
      "outputs": [
        {
          "output_type": "stream",
          "name": "stdout",
          "text": [
            "p(American people) =  40\n",
            "p(American) =  258\n",
            "p(people) =  628\n",
            "pmi =  -11.983919909427518\n"
          ]
        }
      ]
    },
    {
      "cell_type": "markdown",
      "source": [
        "Given that the pmi results in a negative number, it believes the mutual information to not be related much at all. Presumably that is because \"American people\" does not show up very often compared to the two words separately. So I believe that the collocation does not think \"American people\" have much in common with each other."
      ],
      "metadata": {
        "id": "8w2RV_Ck1AW2"
      }
    }
  ]
}